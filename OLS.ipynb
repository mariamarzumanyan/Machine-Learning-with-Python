{
 "cells": [
  {
   "cell_type": "markdown",
   "metadata": {},
   "source": [
    "# Ordnary Least Square Regression\n",
    "# Mariam Arzumanyan\n"
   ]
  },
  {
   "cell_type": "markdown",
   "metadata": {},
   "source": [
    "## Linear Models and OLS\n",
    "Linear models are one of the most important models in statistics. "
   ]
  },
  {
   "cell_type": "markdown",
   "metadata": {},
   "source": [
    "For any given vector of inputs $X=(X_1,X_2,...,X_p)$, and inputs $Y$, the linear model predicts:\n",
    "\\begin{equation}\n",
    "\\hat{Y}=\\hat{\\beta_0}+\\sum_{j=1}^pX_j\\hat{\\beta_j}.\n",
    "\\end{equation}"
   ]
  },
  {
   "cell_type": "markdown",
   "metadata": {},
   "source": [
    "To fit the model, $least$ $squares$ minimizes the residual sum of squares:\n",
    "\\begin{equation}\n",
    "RSS(\\beta)=\\sum_{i=1}^N (y_i-x_i^T\\beta)^2.\n",
    "\\end{equation}"
   ]
  },
  {
   "cell_type": "markdown",
   "metadata": {},
   "source": [
    "If $X^TX$ is nonsingular, then:\n",
    "\\begin{equation}\n",
    "\\hat{\\beta}=(X^TX)^{-1}X^Ty.\n",
    "\\end{equation}"
   ]
  },
  {
   "cell_type": "markdown",
   "metadata": {},
   "source": [
    "Import modules. "
   ]
  },
  {
   "cell_type": "code",
   "execution_count": 1,
   "metadata": {},
   "outputs": [],
   "source": [
    "import numpy as np\n",
    "from matplotlib import pyplot as plt\n",
    "import statsmodels.api as sm\n",
    "import statsmodels.formula.api as smf"
   ]
  },
  {
   "cell_type": "markdown",
   "metadata": {},
   "source": [
    "Load the publicly available dataset."
   ]
  },
  {
   "cell_type": "code",
   "execution_count": 2,
   "metadata": {},
   "outputs": [
    {
     "name": "stdout",
     "output_type": "stream",
     "text": [
      "<class 'pandas.core.frame.DataFrame'>\n",
      "RangeIndex: 16 entries, 0 to 15\n",
      "Data columns (total 7 columns):\n",
      " #   Column   Non-Null Count  Dtype  \n",
      "---  ------   --------------  -----  \n",
      " 0   TOTEMP   16 non-null     float64\n",
      " 1   GNPDEFL  16 non-null     float64\n",
      " 2   GNP      16 non-null     float64\n",
      " 3   UNEMP    16 non-null     float64\n",
      " 4   ARMED    16 non-null     float64\n",
      " 5   POP      16 non-null     float64\n",
      " 6   YEAR     16 non-null     float64\n",
      "dtypes: float64(7)\n",
      "memory usage: 1.0 KB\n"
     ]
    }
   ],
   "source": [
    "data = sm.datasets.longley.load_pandas().data\n",
    "data.info()"
   ]
  },
  {
   "cell_type": "code",
   "execution_count": 3,
   "metadata": {},
   "outputs": [
    {
     "data": {
      "text/plain": [
       "Index(['TOTEMP', 'GNPDEFL', 'GNP', 'UNEMP', 'ARMED', 'POP', 'YEAR'], dtype='object')"
      ]
     },
     "execution_count": 3,
     "metadata": {},
     "output_type": "execute_result"
    }
   ],
   "source": [
    "data.columns"
   ]
  },
  {
   "cell_type": "code",
   "execution_count": 4,
   "metadata": {},
   "outputs": [
    {
     "data": {
      "text/html": [
       "<div>\n",
       "<style scoped>\n",
       "    .dataframe tbody tr th:only-of-type {\n",
       "        vertical-align: middle;\n",
       "    }\n",
       "\n",
       "    .dataframe tbody tr th {\n",
       "        vertical-align: top;\n",
       "    }\n",
       "\n",
       "    .dataframe thead th {\n",
       "        text-align: right;\n",
       "    }\n",
       "</style>\n",
       "<table border=\"1\" class=\"dataframe\">\n",
       "  <thead>\n",
       "    <tr style=\"text-align: right;\">\n",
       "      <th></th>\n",
       "      <th>TOTEMP</th>\n",
       "      <th>GNPDEFL</th>\n",
       "      <th>GNP</th>\n",
       "      <th>UNEMP</th>\n",
       "      <th>ARMED</th>\n",
       "      <th>POP</th>\n",
       "      <th>YEAR</th>\n",
       "    </tr>\n",
       "  </thead>\n",
       "  <tbody>\n",
       "    <tr>\n",
       "      <th>count</th>\n",
       "      <td>16.000000</td>\n",
       "      <td>16.000000</td>\n",
       "      <td>16.000000</td>\n",
       "      <td>16.000000</td>\n",
       "      <td>16.000000</td>\n",
       "      <td>16.000000</td>\n",
       "      <td>16.000000</td>\n",
       "    </tr>\n",
       "    <tr>\n",
       "      <th>mean</th>\n",
       "      <td>65317.000000</td>\n",
       "      <td>101.681250</td>\n",
       "      <td>387698.437500</td>\n",
       "      <td>3193.312500</td>\n",
       "      <td>2606.687500</td>\n",
       "      <td>117424.000000</td>\n",
       "      <td>1954.500000</td>\n",
       "    </tr>\n",
       "    <tr>\n",
       "      <th>std</th>\n",
       "      <td>3511.968356</td>\n",
       "      <td>10.791553</td>\n",
       "      <td>99394.937795</td>\n",
       "      <td>934.464247</td>\n",
       "      <td>695.919604</td>\n",
       "      <td>6956.101561</td>\n",
       "      <td>4.760952</td>\n",
       "    </tr>\n",
       "    <tr>\n",
       "      <th>min</th>\n",
       "      <td>60171.000000</td>\n",
       "      <td>83.000000</td>\n",
       "      <td>234289.000000</td>\n",
       "      <td>1870.000000</td>\n",
       "      <td>1456.000000</td>\n",
       "      <td>107608.000000</td>\n",
       "      <td>1947.000000</td>\n",
       "    </tr>\n",
       "    <tr>\n",
       "      <th>25%</th>\n",
       "      <td>62712.500000</td>\n",
       "      <td>94.525000</td>\n",
       "      <td>317881.000000</td>\n",
       "      <td>2348.250000</td>\n",
       "      <td>2298.000000</td>\n",
       "      <td>111788.500000</td>\n",
       "      <td>1950.750000</td>\n",
       "    </tr>\n",
       "    <tr>\n",
       "      <th>50%</th>\n",
       "      <td>65504.000000</td>\n",
       "      <td>100.600000</td>\n",
       "      <td>381427.000000</td>\n",
       "      <td>3143.500000</td>\n",
       "      <td>2717.500000</td>\n",
       "      <td>116803.500000</td>\n",
       "      <td>1954.500000</td>\n",
       "    </tr>\n",
       "    <tr>\n",
       "      <th>75%</th>\n",
       "      <td>68290.500000</td>\n",
       "      <td>111.250000</td>\n",
       "      <td>454085.500000</td>\n",
       "      <td>3842.500000</td>\n",
       "      <td>3060.750000</td>\n",
       "      <td>122304.000000</td>\n",
       "      <td>1958.250000</td>\n",
       "    </tr>\n",
       "    <tr>\n",
       "      <th>max</th>\n",
       "      <td>70551.000000</td>\n",
       "      <td>116.900000</td>\n",
       "      <td>554894.000000</td>\n",
       "      <td>4806.000000</td>\n",
       "      <td>3594.000000</td>\n",
       "      <td>130081.000000</td>\n",
       "      <td>1962.000000</td>\n",
       "    </tr>\n",
       "  </tbody>\n",
       "</table>\n",
       "</div>"
      ],
      "text/plain": [
       "             TOTEMP     GNPDEFL            GNP        UNEMP        ARMED  \\\n",
       "count     16.000000   16.000000      16.000000    16.000000    16.000000   \n",
       "mean   65317.000000  101.681250  387698.437500  3193.312500  2606.687500   \n",
       "std     3511.968356   10.791553   99394.937795   934.464247   695.919604   \n",
       "min    60171.000000   83.000000  234289.000000  1870.000000  1456.000000   \n",
       "25%    62712.500000   94.525000  317881.000000  2348.250000  2298.000000   \n",
       "50%    65504.000000  100.600000  381427.000000  3143.500000  2717.500000   \n",
       "75%    68290.500000  111.250000  454085.500000  3842.500000  3060.750000   \n",
       "max    70551.000000  116.900000  554894.000000  4806.000000  3594.000000   \n",
       "\n",
       "                 POP         YEAR  \n",
       "count      16.000000    16.000000  \n",
       "mean   117424.000000  1954.500000  \n",
       "std      6956.101561     4.760952  \n",
       "min    107608.000000  1947.000000  \n",
       "25%    111788.500000  1950.750000  \n",
       "50%    116803.500000  1954.500000  \n",
       "75%    122304.000000  1958.250000  \n",
       "max    130081.000000  1962.000000  "
      ]
     },
     "execution_count": 4,
     "metadata": {},
     "output_type": "execute_result"
    }
   ],
   "source": [
    "data.describe()"
   ]
  },
  {
   "cell_type": "code",
   "execution_count": 5,
   "metadata": {},
   "outputs": [
    {
     "data": {
      "image/png": "[encoded data removed]",
      "text/plain": [
       "<Figure size 432x288 with 1 Axes>"
      ]
     },
     "metadata": {
      "needs_background": "light"
     },
     "output_type": "display_data"
    }
   ],
   "source": [
    "%matplotlib inline\n",
    "fig, ax=plt.subplots()\n",
    "ax.plot(data[\"YEAR\"], data[\"UNEMP\"], \"r--\")\n",
    "ax.plot(data[\"YEAR\"], data[\"ARMED\"], \"b\")\n",
    "plt.legend([\"Number of unemployed\", \"Size of armed forces\"])\n",
    "plt.show()"
   ]
  },
  {
   "cell_type": "code",
   "execution_count": 6,
   "metadata": {},
   "outputs": [],
   "source": [
    "ols_reg=sm.OLS(data[\"UNEMP\"],data[\"ARMED\"])"
   ]
  },
  {
   "cell_type": "code",
   "execution_count": 7,
   "metadata": {},
   "outputs": [],
   "source": [
    "results=ols_reg.fit()"
   ]
  },
  {
   "cell_type": "code",
   "execution_count": 8,
   "metadata": {},
   "outputs": [
    {
     "name": "stdout",
     "output_type": "stream",
     "text": [
      "                                 OLS Regression Results                                \n",
      "=======================================================================================\n",
      "Dep. Variable:                  UNEMP   R-squared (uncentered):                   0.845\n",
      "Model:                            OLS   Adj. R-squared (uncentered):              0.835\n",
      "Method:                 Least Squares   F-statistic:                              81.96\n",
      "Date:                Mon, 08 Nov 2021   Prob (F-statistic):                    1.82e-07\n",
      "Time:                        12:31:49   Log-Likelihood:                         -137.49\n",
      "No. Observations:                  16   AIC:                                      277.0\n",
      "Df Residuals:                      15   BIC:                                      277.8\n",
      "Df Model:                           1                                                  \n",
      "Covariance Type:            nonrobust                                                  \n",
      "==============================================================================\n",
      "                 coef    std err          t      P>|t|      [0.025      0.975]\n",
      "------------------------------------------------------------------------------\n",
      "ARMED          1.1334      0.125      9.053      0.000       0.867       1.400\n",
      "==============================================================================\n",
      "Omnibus:                        1.420   Durbin-Watson:                   0.752\n",
      "Prob(Omnibus):                  0.492   Jarque-Bera (JB):                1.178\n",
      "Skew:                          -0.524   Prob(JB):                        0.555\n",
      "Kurtosis:                       2.182   Cond. No.                         1.00\n",
      "==============================================================================\n",
      "\n",
      "Notes:\n",
      "[1] R² is computed without centering (uncentered) since the model does not contain a constant.\n",
      "[2] Standard Errors assume that the covariance matrix of the errors is correctly specified.\n"
     ]
    },
    {
     "name": "stderr",
     "output_type": "stream",
     "text": [
      "C:\\ProgramData\\Anaconda3\\lib\\site-packages\\scipy\\stats\\stats.py:1603: UserWarning: kurtosistest only valid for n>=20 ... continuing anyway, n=16\n",
      "  warnings.warn(\"kurtosistest only valid for n>=20 ... continuing \"\n"
     ]
    }
   ],
   "source": [
    "print(results.summary())"
   ]
  },
  {
   "cell_type": "code",
   "execution_count": 9,
   "metadata": {},
   "outputs": [],
   "source": [
    "ols_reg_1=smf.ols(\"TOTEMP~UNEMP + ARMED\", data).fit()"
   ]
  },
  {
   "cell_type": "code",
   "execution_count": 10,
   "metadata": {},
   "outputs": [
    {
     "name": "stdout",
     "output_type": "stream",
     "text": [
      "                            OLS Regression Results                            \n",
      "==============================================================================\n",
      "Dep. Variable:                 TOTEMP   R-squared:                       0.561\n",
      "Model:                            OLS   Adj. R-squared:                  0.493\n",
      "Method:                 Least Squares   F-statistic:                     8.301\n",
      "Date:                Mon, 08 Nov 2021   Prob (F-statistic):            0.00475\n",
      "Time:                        12:31:49   Log-Likelihood:                -146.23\n",
      "No. Observations:                  16   AIC:                             298.5\n",
      "Df Residuals:                      13   BIC:                             300.8\n",
      "Df Model:                           2                                         \n",
      "Covariance Type:            nonrobust                                         \n",
      "==============================================================================\n",
      "                 coef    std err          t      P>|t|      [0.025      0.975]\n",
      "------------------------------------------------------------------------------\n",
      "Intercept   5.066e+04   3661.202     13.838      0.000    4.28e+04    5.86e+04\n",
      "UNEMP          2.2647      0.702      3.227      0.007       0.748       3.781\n",
      "ARMED          2.8474      0.943      3.021      0.010       0.811       4.884\n",
      "==============================================================================\n",
      "Omnibus:                        0.884   Durbin-Watson:                   1.646\n",
      "Prob(Omnibus):                  0.643   Jarque-Bera (JB):                0.799\n",
      "Skew:                          -0.323   Prob(JB):                        0.671\n",
      "Kurtosis:                       2.116   Cond. No.                     2.45e+04\n",
      "==============================================================================\n",
      "\n",
      "Notes:\n",
      "[1] Standard Errors assume that the covariance matrix of the errors is correctly specified.\n",
      "[2] The condition number is large, 2.45e+04. This might indicate that there are\n",
      "strong multicollinearity or other numerical problems.\n"
     ]
    },
    {
     "name": "stderr",
     "output_type": "stream",
     "text": [
      "C:\\ProgramData\\Anaconda3\\lib\\site-packages\\scipy\\stats\\stats.py:1603: UserWarning: kurtosistest only valid for n>=20 ... continuing anyway, n=16\n",
      "  warnings.warn(\"kurtosistest only valid for n>=20 ... continuing \"\n"
     ]
    }
   ],
   "source": [
    "print(ols_reg_1.summary())"
   ]
  },
  {
   "cell_type": "code",
   "execution_count": 11,
   "metadata": {},
   "outputs": [
    {
     "name": "stdout",
     "output_type": "stream",
     "text": [
      "                                 OLS Regression Results                                \n",
      "=======================================================================================\n",
      "Dep. Variable:                 TOTEMP   R-squared (uncentered):                   0.981\n",
      "Model:                            OLS   Adj. R-squared (uncentered):              0.979\n",
      "Method:                 Least Squares   F-statistic:                              367.9\n",
      "Date:                Mon, 08 Nov 2021   Prob (F-statistic):                    7.91e-13\n",
      "Time:                        12:31:49   Log-Likelihood:                         -168.27\n",
      "No. Observations:                  16   AIC:                                      340.5\n",
      "Df Residuals:                      14   BIC:                                      342.1\n",
      "Df Model:                           2                                                  \n",
      "Covariance Type:            nonrobust                                                  \n",
      "==============================================================================\n",
      "                 coef    std err          t      P>|t|      [0.025      0.975]\n",
      "------------------------------------------------------------------------------\n",
      "UNEMP          9.3673      1.830      5.119      0.000       5.443      13.292\n",
      "ARMED         13.0157      2.256      5.770      0.000       8.178      17.854\n",
      "==============================================================================\n",
      "Omnibus:                        1.123   Durbin-Watson:                   0.951\n",
      "Prob(Omnibus):                  0.570   Jarque-Bera (JB):                0.431\n",
      "Skew:                           0.402   Prob(JB):                        0.806\n",
      "Kurtosis:                       2.994   Cond. No.                         5.00\n",
      "==============================================================================\n",
      "\n",
      "Notes:\n",
      "[1] R² is computed without centering (uncentered) since the model does not contain a constant.\n",
      "[2] Standard Errors assume that the covariance matrix of the errors is correctly specified.\n"
     ]
    },
    {
     "name": "stderr",
     "output_type": "stream",
     "text": [
      "C:\\ProgramData\\Anaconda3\\lib\\site-packages\\scipy\\stats\\stats.py:1603: UserWarning: kurtosistest only valid for n>=20 ... continuing anyway, n=16\n",
      "  warnings.warn(\"kurtosistest only valid for n>=20 ... continuing \"\n"
     ]
    }
   ],
   "source": [
    "ols_reg_2=smf.ols(\"TOTEMP~UNEMP + ARMED+0\", data).fit()\n",
    "print(ols_reg_2.summary())"
   ]
  },
  {
   "cell_type": "code",
   "execution_count": 12,
   "metadata": {},
   "outputs": [
    {
     "name": "stdout",
     "output_type": "stream",
     "text": [
      "                            OLS Regression Results                            \n",
      "==============================================================================\n",
      "Dep. Variable:                 TOTEMP   R-squared:                       0.985\n",
      "Model:                            OLS   Adj. R-squared:                  0.981\n",
      "Method:                 Least Squares   F-statistic:                     264.4\n",
      "Date:                Mon, 08 Nov 2021   Prob (F-statistic):           3.19e-11\n",
      "Time:                        12:31:49   Log-Likelihood:                -119.16\n",
      "No. Observations:                  16   AIC:                             246.3\n",
      "Df Residuals:                      12   BIC:                             249.4\n",
      "Df Model:                           3                                         \n",
      "Covariance Type:            nonrobust                                         \n",
      "==============================================================================\n",
      "                 coef    std err          t      P>|t|      [0.025      0.975]\n",
      "------------------------------------------------------------------------------\n",
      "Intercept   5.331e+04    716.342     74.415      0.000    5.17e+04    5.49e+04\n",
      "UNEMP         -0.7968      0.213     -3.734      0.003      -1.262      -0.332\n",
      "ARMED         -0.4828      0.255     -1.892      0.083      -1.039       0.073\n",
      "GNP            0.0408      0.002     18.485      0.000       0.036       0.046\n",
      "==============================================================================\n",
      "Omnibus:                        4.210   Durbin-Watson:                   0.904\n",
      "Prob(Omnibus):                  0.122   Jarque-Bera (JB):                1.788\n",
      "Skew:                           0.532   Prob(JB):                        0.409\n",
      "Kurtosis:                       4.245   Cond. No.                     2.39e+06\n",
      "==============================================================================\n",
      "\n",
      "Notes:\n",
      "[1] Standard Errors assume that the covariance matrix of the errors is correctly specified.\n",
      "[2] The condition number is large, 2.39e+06. This might indicate that there are\n",
      "strong multicollinearity or other numerical problems.\n"
     ]
    },
    {
     "name": "stderr",
     "output_type": "stream",
     "text": [
      "C:\\ProgramData\\Anaconda3\\lib\\site-packages\\scipy\\stats\\stats.py:1603: UserWarning: kurtosistest only valid for n>=20 ... continuing anyway, n=16\n",
      "  warnings.warn(\"kurtosistest only valid for n>=20 ... continuing \"\n"
     ]
    }
   ],
   "source": [
    "ols_reg_3=smf.ols(\"TOTEMP~UNEMP + ARMED+GNP\", data).fit()\n",
    "print(ols_reg_3.summary())"
   ]
  },
  {
   "cell_type": "code",
   "execution_count": 13,
   "metadata": {},
   "outputs": [
    {
     "name": "stdout",
     "output_type": "stream",
     "text": [
      "                            OLS Regression Results                            \n",
      "==============================================================================\n",
      "Dep. Variable:                 TOTEMP   R-squared:                       0.987\n",
      "Model:                            OLS   Adj. R-squared:                  0.983\n",
      "Method:                 Least Squares   F-statistic:                     212.2\n",
      "Date:                Mon, 08 Nov 2021   Prob (F-statistic):           2.49e-10\n",
      "Time:                        12:31:50   Log-Likelihood:                -117.94\n",
      "No. Observations:                  16   AIC:                             245.9\n",
      "Df Residuals:                      11   BIC:                             249.7\n",
      "Df Model:                           4                                         \n",
      "Covariance Type:            nonrobust                                         \n",
      "==============================================================================\n",
      "                 coef    std err          t      P>|t|      [0.025      0.975]\n",
      "------------------------------------------------------------------------------\n",
      "Intercept   8.261e+04   2.18e+04      3.794      0.003    3.47e+04    1.31e+05\n",
      "UNEMP         -0.5198      0.291     -1.783      0.102      -1.161       0.122\n",
      "ARMED         -0.5917      0.260     -2.277      0.044      -1.164      -0.020\n",
      "GNP            0.0621      0.016      3.888      0.003       0.027       0.097\n",
      "POP           -0.3251      0.241     -1.347      0.205      -0.856       0.206\n",
      "==============================================================================\n",
      "Omnibus:                        2.302   Durbin-Watson:                   1.197\n",
      "Prob(Omnibus):                  0.316   Jarque-Bera (JB):                0.956\n",
      "Skew:                           0.584   Prob(JB):                        0.620\n",
      "Kurtosis:                       3.263   Cond. No.                     7.81e+07\n",
      "==============================================================================\n",
      "\n",
      "Notes:\n",
      "[1] Standard Errors assume that the covariance matrix of the errors is correctly specified.\n",
      "[2] The condition number is large, 7.81e+07. This might indicate that there are\n",
      "strong multicollinearity or other numerical problems.\n"
     ]
    },
    {
     "name": "stderr",
     "output_type": "stream",
     "text": [
      "C:\\ProgramData\\Anaconda3\\lib\\site-packages\\scipy\\stats\\stats.py:1603: UserWarning: kurtosistest only valid for n>=20 ... continuing anyway, n=16\n",
      "  warnings.warn(\"kurtosistest only valid for n>=20 ... continuing \"\n"
     ]
    }
   ],
   "source": [
    "ols_reg_4=smf.ols(\"TOTEMP~UNEMP + ARMED+GNP+POP\", data).fit()\n",
    "print(ols_reg_4.summary())"
   ]
  },
  {
   "cell_type": "code",
   "execution_count": 14,
   "metadata": {},
   "outputs": [
    {
     "name": "stdout",
     "output_type": "stream",
     "text": [
      "                                 OLS Regression Results                                \n",
      "=======================================================================================\n",
      "Dep. Variable:                 TOTEMP   R-squared (uncentered):                   1.000\n",
      "Model:                            OLS   Adj. R-squared (uncentered):              1.000\n",
      "Method:                 Least Squares   F-statistic:                          3.758e+04\n",
      "Date:                Mon, 08 Nov 2021   Prob (F-statistic):                    1.81e-24\n",
      "Time:                        12:31:50   Log-Likelihood:                         -124.63\n",
      "No. Observations:                  16   AIC:                                      257.3\n",
      "Df Residuals:                      12   BIC:                                      260.4\n",
      "Df Model:                           4                                                  \n",
      "Covariance Type:            nonrobust                                                  \n",
      "==============================================================================\n",
      "                 coef    std err          t      P>|t|      [0.025      0.975]\n",
      "------------------------------------------------------------------------------\n",
      "UNEMP         -1.2848      0.306     -4.195      0.001      -1.952      -0.618\n",
      "ARMED         -0.2646      0.357     -0.742      0.472      -1.041       0.512\n",
      "GNP            0.0020      0.003      0.666      0.518      -0.005       0.009\n",
      "POP            0.5903      0.011     52.803      0.000       0.566       0.615\n",
      "==============================================================================\n",
      "Omnibus:                        3.252   Durbin-Watson:                   0.638\n",
      "Prob(Omnibus):                  0.197   Jarque-Bera (JB):                1.162\n",
      "Skew:                          -0.236   Prob(JB):                        0.559\n",
      "Kurtosis:                       4.233   Cond. No.                     1.05e+03\n",
      "==============================================================================\n",
      "\n",
      "Notes:\n",
      "[1] R² is computed without centering (uncentered) since the model does not contain a constant.\n",
      "[2] Standard Errors assume that the covariance matrix of the errors is correctly specified.\n",
      "[3] The condition number is large, 1.05e+03. This might indicate that there are\n",
      "strong multicollinearity or other numerical problems.\n"
     ]
    },
    {
     "name": "stderr",
     "output_type": "stream",
     "text": [
      "C:\\ProgramData\\Anaconda3\\lib\\site-packages\\scipy\\stats\\stats.py:1603: UserWarning: kurtosistest only valid for n>=20 ... continuing anyway, n=16\n",
      "  warnings.warn(\"kurtosistest only valid for n>=20 ... continuing \"\n"
     ]
    }
   ],
   "source": [
    "ols_reg_5=smf.ols(\"TOTEMP~UNEMP + ARMED+GNP+POP+0\", data).fit()\n",
    "print(ols_reg_5.summary())"
   ]
  },
  {
   "cell_type": "code",
   "execution_count": 15,
   "metadata": {},
   "outputs": [
    {
     "name": "stdout",
     "output_type": "stream",
     "text": [
      "Percentage change -0.00%\n",
      "Percentage change -0.00%\n",
      "Percentage change 0.00%\n",
      "Percentage change 0.00%\n",
      "\n"
     ]
    }
   ],
   "source": [
    "print(\"Percentage change %4.2f%%\\n\"*4 % tuple([i for i in (ols_reg_5.params - ols_reg_5.params)/ols_reg_5.params*100]))"
   ]
  },
  {
   "cell_type": "code",
   "execution_count": 16,
   "metadata": {},
   "outputs": [
    {
     "data": {
      "text/plain": [
       "<statsmodels.stats.outliers_influence.OLSInfluence at 0x28687bb9c10>"
      ]
     },
     "execution_count": 16,
     "metadata": {},
     "output_type": "execute_result"
    }
   ],
   "source": [
    "infl = ols_reg_5.get_influence()\n",
    "infl"
   ]
  },
  {
   "cell_type": "markdown",
   "metadata": {},
   "source": [
    "Next dataset."
   ]
  },
  {
   "cell_type": "code",
   "execution_count": 17,
   "metadata": {},
   "outputs": [
    {
     "data": {
      "text/plain": [
       "<class 'statsmodels.datasets.utils.Dataset'>"
      ]
     },
     "execution_count": 17,
     "metadata": {},
     "output_type": "execute_result"
    }
   ],
   "source": [
    "sm.datasets.get_rdataset(\"Guerry\", \"HistData\")"
   ]
  },
  {
   "cell_type": "code",
   "execution_count": 18,
   "metadata": {},
   "outputs": [
    {
     "data": {
      "text/plain": [
       "['__class__',\n",
       " '__contains__',\n",
       " '__delattr__',\n",
       " '__delitem__',\n",
       " '__dict__',\n",
       " '__dir__',\n",
       " '__doc__',\n",
       " '__eq__',\n",
       " '__format__',\n",
       " '__ge__',\n",
       " '__getattribute__',\n",
       " '__getitem__',\n",
       " '__gt__',\n",
       " '__hash__',\n",
       " '__init__',\n",
       " '__init_subclass__',\n",
       " '__iter__',\n",
       " '__le__',\n",
       " '__len__',\n",
       " '__lt__',\n",
       " '__module__',\n",
       " '__ne__',\n",
       " '__new__',\n",
       " '__reduce__',\n",
       " '__reduce_ex__',\n",
       " '__repr__',\n",
       " '__reversed__',\n",
       " '__setattr__',\n",
       " '__setitem__',\n",
       " '__sizeof__',\n",
       " '__str__',\n",
       " '__subclasshook__',\n",
       " '__weakref__',\n",
       " 'clear',\n",
       " 'copy',\n",
       " 'data',\n",
       " 'from_cache',\n",
       " 'fromkeys',\n",
       " 'get',\n",
       " 'items',\n",
       " 'keys',\n",
       " 'package',\n",
       " 'pop',\n",
       " 'popitem',\n",
       " 'setdefault',\n",
       " 'title',\n",
       " 'update',\n",
       " 'values']"
      ]
     },
     "execution_count": 18,
     "metadata": {},
     "output_type": "execute_result"
    }
   ],
   "source": [
    "dir(sm.datasets.get_rdataset(\"Guerry\", \"HistData\"))"
   ]
  },
  {
   "cell_type": "code",
   "execution_count": 19,
   "metadata": {},
   "outputs": [
    {
     "data": {
      "text/html": [
       "<div>\n",
       "<style scoped>\n",
       "    .dataframe tbody tr th:only-of-type {\n",
       "        vertical-align: middle;\n",
       "    }\n",
       "\n",
       "    .dataframe tbody tr th {\n",
       "        vertical-align: top;\n",
       "    }\n",
       "\n",
       "    .dataframe thead th {\n",
       "        text-align: right;\n",
       "    }\n",
       "</style>\n",
       "<table border=\"1\" class=\"dataframe\">\n",
       "  <thead>\n",
       "    <tr style=\"text-align: right;\">\n",
       "      <th></th>\n",
       "      <th>dept</th>\n",
       "      <th>Crime_pers</th>\n",
       "      <th>Crime_prop</th>\n",
       "      <th>Literacy</th>\n",
       "      <th>Donations</th>\n",
       "      <th>Infants</th>\n",
       "      <th>Suicides</th>\n",
       "      <th>Wealth</th>\n",
       "      <th>Commerce</th>\n",
       "      <th>Clergy</th>\n",
       "      <th>Crime_parents</th>\n",
       "      <th>Infanticide</th>\n",
       "      <th>Donation_clergy</th>\n",
       "      <th>Lottery</th>\n",
       "      <th>Desertion</th>\n",
       "      <th>Instruction</th>\n",
       "      <th>Prostitutes</th>\n",
       "      <th>Distance</th>\n",
       "      <th>Area</th>\n",
       "      <th>Pop1831</th>\n",
       "    </tr>\n",
       "  </thead>\n",
       "  <tbody>\n",
       "    <tr>\n",
       "      <th>count</th>\n",
       "      <td>86.000000</td>\n",
       "      <td>86.000000</td>\n",
       "      <td>86.000000</td>\n",
       "      <td>86.000000</td>\n",
       "      <td>86.000000</td>\n",
       "      <td>86.000000</td>\n",
       "      <td>86.000000</td>\n",
       "      <td>86.000000</td>\n",
       "      <td>86.000000</td>\n",
       "      <td>86.000000</td>\n",
       "      <td>86.000000</td>\n",
       "      <td>86.000000</td>\n",
       "      <td>86.000000</td>\n",
       "      <td>86.000000</td>\n",
       "      <td>86.000000</td>\n",
       "      <td>86.000000</td>\n",
       "      <td>86.000000</td>\n",
       "      <td>86.000000</td>\n",
       "      <td>86.000000</td>\n",
       "      <td>86.000000</td>\n",
       "    </tr>\n",
       "    <tr>\n",
       "      <th>mean</th>\n",
       "      <td>46.883721</td>\n",
       "      <td>19754.406977</td>\n",
       "      <td>7843.058140</td>\n",
       "      <td>39.255814</td>\n",
       "      <td>7075.546512</td>\n",
       "      <td>19049.906977</td>\n",
       "      <td>36522.604651</td>\n",
       "      <td>43.500000</td>\n",
       "      <td>42.802326</td>\n",
       "      <td>43.430233</td>\n",
       "      <td>43.500000</td>\n",
       "      <td>43.511628</td>\n",
       "      <td>43.500000</td>\n",
       "      <td>43.500000</td>\n",
       "      <td>43.500000</td>\n",
       "      <td>43.127907</td>\n",
       "      <td>141.872093</td>\n",
       "      <td>207.953140</td>\n",
       "      <td>6146.988372</td>\n",
       "      <td>378.628721</td>\n",
       "    </tr>\n",
       "    <tr>\n",
       "      <th>std</th>\n",
       "      <td>30.426157</td>\n",
       "      <td>7504.703073</td>\n",
       "      <td>3051.352839</td>\n",
       "      <td>17.364051</td>\n",
       "      <td>5834.595216</td>\n",
       "      <td>8820.233546</td>\n",
       "      <td>31312.532649</td>\n",
       "      <td>24.969982</td>\n",
       "      <td>25.028370</td>\n",
       "      <td>24.999549</td>\n",
       "      <td>24.969982</td>\n",
       "      <td>24.948297</td>\n",
       "      <td>24.969982</td>\n",
       "      <td>24.969982</td>\n",
       "      <td>24.969982</td>\n",
       "      <td>24.799809</td>\n",
       "      <td>520.969318</td>\n",
       "      <td>109.320837</td>\n",
       "      <td>1398.246620</td>\n",
       "      <td>148.777230</td>\n",
       "    </tr>\n",
       "    <tr>\n",
       "      <th>min</th>\n",
       "      <td>1.000000</td>\n",
       "      <td>2199.000000</td>\n",
       "      <td>1368.000000</td>\n",
       "      <td>12.000000</td>\n",
       "      <td>1246.000000</td>\n",
       "      <td>2660.000000</td>\n",
       "      <td>3460.000000</td>\n",
       "      <td>1.000000</td>\n",
       "      <td>1.000000</td>\n",
       "      <td>1.000000</td>\n",
       "      <td>1.000000</td>\n",
       "      <td>1.000000</td>\n",
       "      <td>1.000000</td>\n",
       "      <td>1.000000</td>\n",
       "      <td>1.000000</td>\n",
       "      <td>1.000000</td>\n",
       "      <td>0.000000</td>\n",
       "      <td>0.000000</td>\n",
       "      <td>762.000000</td>\n",
       "      <td>129.100000</td>\n",
       "    </tr>\n",
       "    <tr>\n",
       "      <th>25%</th>\n",
       "      <td>24.250000</td>\n",
       "      <td>14156.250000</td>\n",
       "      <td>5933.000000</td>\n",
       "      <td>25.000000</td>\n",
       "      <td>3446.750000</td>\n",
       "      <td>14299.750000</td>\n",
       "      <td>15463.000000</td>\n",
       "      <td>22.250000</td>\n",
       "      <td>21.250000</td>\n",
       "      <td>22.250000</td>\n",
       "      <td>22.250000</td>\n",
       "      <td>22.250000</td>\n",
       "      <td>22.250000</td>\n",
       "      <td>22.250000</td>\n",
       "      <td>22.250000</td>\n",
       "      <td>23.250000</td>\n",
       "      <td>6.000000</td>\n",
       "      <td>121.383000</td>\n",
       "      <td>5400.750000</td>\n",
       "      <td>283.005000</td>\n",
       "    </tr>\n",
       "    <tr>\n",
       "      <th>50%</th>\n",
       "      <td>45.500000</td>\n",
       "      <td>18748.500000</td>\n",
       "      <td>7595.000000</td>\n",
       "      <td>38.000000</td>\n",
       "      <td>5020.000000</td>\n",
       "      <td>17141.500000</td>\n",
       "      <td>26743.500000</td>\n",
       "      <td>43.500000</td>\n",
       "      <td>42.500000</td>\n",
       "      <td>43.500000</td>\n",
       "      <td>43.500000</td>\n",
       "      <td>43.500000</td>\n",
       "      <td>43.500000</td>\n",
       "      <td>43.500000</td>\n",
       "      <td>43.500000</td>\n",
       "      <td>41.500000</td>\n",
       "      <td>33.000000</td>\n",
       "      <td>200.616000</td>\n",
       "      <td>6070.500000</td>\n",
       "      <td>346.165000</td>\n",
       "    </tr>\n",
       "    <tr>\n",
       "      <th>75%</th>\n",
       "      <td>66.750000</td>\n",
       "      <td>25937.500000</td>\n",
       "      <td>9182.250000</td>\n",
       "      <td>51.750000</td>\n",
       "      <td>9446.750000</td>\n",
       "      <td>22682.250000</td>\n",
       "      <td>44057.500000</td>\n",
       "      <td>64.750000</td>\n",
       "      <td>63.750000</td>\n",
       "      <td>64.750000</td>\n",
       "      <td>64.750000</td>\n",
       "      <td>64.750000</td>\n",
       "      <td>64.750000</td>\n",
       "      <td>64.750000</td>\n",
       "      <td>64.750000</td>\n",
       "      <td>64.750000</td>\n",
       "      <td>113.750000</td>\n",
       "      <td>289.670500</td>\n",
       "      <td>6816.500000</td>\n",
       "      <td>444.407500</td>\n",
       "    </tr>\n",
       "    <tr>\n",
       "      <th>max</th>\n",
       "      <td>200.000000</td>\n",
       "      <td>37014.000000</td>\n",
       "      <td>20235.000000</td>\n",
       "      <td>74.000000</td>\n",
       "      <td>37015.000000</td>\n",
       "      <td>62486.000000</td>\n",
       "      <td>163241.000000</td>\n",
       "      <td>86.000000</td>\n",
       "      <td>86.000000</td>\n",
       "      <td>86.000000</td>\n",
       "      <td>86.000000</td>\n",
       "      <td>86.000000</td>\n",
       "      <td>86.000000</td>\n",
       "      <td>86.000000</td>\n",
       "      <td>86.000000</td>\n",
       "      <td>86.000000</td>\n",
       "      <td>4744.000000</td>\n",
       "      <td>539.213000</td>\n",
       "      <td>10000.000000</td>\n",
       "      <td>989.940000</td>\n",
       "    </tr>\n",
       "  </tbody>\n",
       "</table>\n",
       "</div>"
      ],
      "text/plain": [
       "             dept    Crime_pers    Crime_prop   Literacy     Donations  \\\n",
       "count   86.000000     86.000000     86.000000  86.000000     86.000000   \n",
       "mean    46.883721  19754.406977   7843.058140  39.255814   7075.546512   \n",
       "std     30.426157   7504.703073   3051.352839  17.364051   5834.595216   \n",
       "min      1.000000   2199.000000   1368.000000  12.000000   1246.000000   \n",
       "25%     24.250000  14156.250000   5933.000000  25.000000   3446.750000   \n",
       "50%     45.500000  18748.500000   7595.000000  38.000000   5020.000000   \n",
       "75%     66.750000  25937.500000   9182.250000  51.750000   9446.750000   \n",
       "max    200.000000  37014.000000  20235.000000  74.000000  37015.000000   \n",
       "\n",
       "            Infants       Suicides     Wealth   Commerce     Clergy  \\\n",
       "count     86.000000      86.000000  86.000000  86.000000  86.000000   \n",
       "mean   19049.906977   36522.604651  43.500000  42.802326  43.430233   \n",
       "std     8820.233546   31312.532649  24.969982  25.028370  24.999549   \n",
       "min     2660.000000    3460.000000   1.000000   1.000000   1.000000   \n",
       "25%    14299.750000   15463.000000  22.250000  21.250000  22.250000   \n",
       "50%    17141.500000   26743.500000  43.500000  42.500000  43.500000   \n",
       "75%    22682.250000   44057.500000  64.750000  63.750000  64.750000   \n",
       "max    62486.000000  163241.000000  86.000000  86.000000  86.000000   \n",
       "\n",
       "       Crime_parents  Infanticide  Donation_clergy    Lottery  Desertion  \\\n",
       "count      86.000000    86.000000        86.000000  86.000000  86.000000   \n",
       "mean       43.500000    43.511628        43.500000  43.500000  43.500000   \n",
       "std        24.969982    24.948297        24.969982  24.969982  24.969982   \n",
       "min         1.000000     1.000000         1.000000   1.000000   1.000000   \n",
       "25%        22.250000    22.250000        22.250000  22.250000  22.250000   \n",
       "50%        43.500000    43.500000        43.500000  43.500000  43.500000   \n",
       "75%        64.750000    64.750000        64.750000  64.750000  64.750000   \n",
       "max        86.000000    86.000000        86.000000  86.000000  86.000000   \n",
       "\n",
       "       Instruction  Prostitutes    Distance          Area     Pop1831  \n",
       "count    86.000000    86.000000   86.000000     86.000000   86.000000  \n",
       "mean     43.127907   141.872093  207.953140   6146.988372  378.628721  \n",
       "std      24.799809   520.969318  109.320837   1398.246620  148.777230  \n",
       "min       1.000000     0.000000    0.000000    762.000000  129.100000  \n",
       "25%      23.250000     6.000000  121.383000   5400.750000  283.005000  \n",
       "50%      41.500000    33.000000  200.616000   6070.500000  346.165000  \n",
       "75%      64.750000   113.750000  289.670500   6816.500000  444.407500  \n",
       "max      86.000000  4744.000000  539.213000  10000.000000  989.940000  "
      ]
     },
     "execution_count": 19,
     "metadata": {},
     "output_type": "execute_result"
    }
   ],
   "source": [
    "data=sm.datasets.get_rdataset(\"Guerry\", \"HistData\").data\n",
    "data.describe()"
   ]
  },
  {
   "cell_type": "code",
   "execution_count": 20,
   "metadata": {},
   "outputs": [
    {
     "name": "stdout",
     "output_type": "stream",
     "text": [
      "                            OLS Regression Results                            \n",
      "==============================================================================\n",
      "Dep. Variable:                 Wealth   R-squared:                       0.076\n",
      "Model:                            OLS   Adj. R-squared:                  0.065\n",
      "Method:                 Least Squares   F-statistic:                     6.916\n",
      "Date:                Mon, 08 Nov 2021   Prob (F-statistic):             0.0102\n",
      "Time:                        12:31:50   Log-Likelihood:                -394.84\n",
      "No. Observations:                  86   AIC:                             793.7\n",
      "Df Residuals:                      84   BIC:                             798.6\n",
      "Df Model:                           1                                         \n",
      "Covariance Type:            nonrobust                                         \n",
      "==============================================================================\n",
      "                 coef    std err          t      P>|t|      [0.025      0.975]\n",
      "------------------------------------------------------------------------------\n",
      "Intercept     59.0701      6.468      9.133      0.000      46.209      71.931\n",
      "Literacy      -0.3966      0.151     -2.630      0.010      -0.697      -0.097\n",
      "==============================================================================\n",
      "Omnibus:                       11.356   Durbin-Watson:                   1.488\n",
      "Prob(Omnibus):                  0.003   Jarque-Bera (JB):                4.035\n",
      "Skew:                           0.196   Prob(JB):                        0.133\n",
      "Kurtosis:                       2.014   Cond. No.                         107.\n",
      "==============================================================================\n",
      "\n",
      "Notes:\n",
      "[1] Standard Errors assume that the covariance matrix of the errors is correctly specified.\n"
     ]
    }
   ],
   "source": [
    "ols_reg = smf.ols('Wealth ~ Literacy', data).fit()\n",
    "print(ols_reg.summary())"
   ]
  },
  {
   "cell_type": "code",
   "execution_count": 21,
   "metadata": {},
   "outputs": [
    {
     "name": "stdout",
     "output_type": "stream",
     "text": [
      "                                 OLS Regression Results                                \n",
      "=======================================================================================\n",
      "Dep. Variable:              Donations   R-squared (uncentered):                   0.542\n",
      "Model:                            OLS   Adj. R-squared (uncentered):              0.532\n",
      "Method:                 Least Squares   F-statistic:                              49.80\n",
      "Date:                Mon, 08 Nov 2021   Prob (F-statistic):                    5.46e-15\n",
      "Time:                        12:31:50   Log-Likelihood:                         -872.85\n",
      "No. Observations:                  86   AIC:                                      1750.\n",
      "Df Residuals:                      84   BIC:                                      1755.\n",
      "Df Model:                           2                                                  \n",
      "Covariance Type:            nonrobust                                                  \n",
      "==============================================================================\n",
      "                 coef    std err          t      P>|t|      [0.025      0.975]\n",
      "------------------------------------------------------------------------------\n",
      "Literacy      75.0927     23.411      3.208      0.002      28.538     121.647\n",
      "Wealth        79.8266     20.045      3.982      0.000      39.965     119.688\n",
      "==============================================================================\n",
      "Omnibus:                       58.257   Durbin-Watson:                   1.770\n",
      "Prob(Omnibus):                  0.000   Jarque-Bera (JB):              247.657\n",
      "Skew:                           2.202   Prob(JB):                     1.67e-54\n",
      "Kurtosis:                      10.052   Cond. No.                         2.63\n",
      "==============================================================================\n",
      "\n",
      "Notes:\n",
      "[1] R² is computed without centering (uncentered) since the model does not contain a constant.\n",
      "[2] Standard Errors assume that the covariance matrix of the errors is correctly specified.\n"
     ]
    }
   ],
   "source": [
    "ols_reg = smf.ols('Donations ~ Literacy+Wealth+0', data).fit()\n",
    "print(ols_reg.summary())"
   ]
  },
  {
   "cell_type": "code",
   "execution_count": 22,
   "metadata": {},
   "outputs": [
    {
     "name": "stdout",
     "output_type": "stream",
     "text": [
      "                            OLS Regression Results                            \n",
      "==============================================================================\n",
      "Dep. Variable:              Donations   R-squared:                       0.019\n",
      "Model:                            OLS   Adj. R-squared:                 -0.005\n",
      "Method:                 Least Squares   F-statistic:                    0.7893\n",
      "Date:                Mon, 08 Nov 2021   Prob (F-statistic):              0.458\n",
      "Time:                        12:31:50   Log-Likelihood:                -866.47\n",
      "No. Observations:                  86   AIC:                             1739.\n",
      "Df Residuals:                      83   BIC:                             1746.\n",
      "Df Model:                           2                                         \n",
      "Covariance Type:            nonrobust                                         \n",
      "==============================================================================\n",
      "                 coef    std err          t      P>|t|      [0.025      0.975]\n",
      "------------------------------------------------------------------------------\n",
      "Intercept   8059.3492   2211.992      3.643      0.000    3659.787    1.25e+04\n",
      "Literacy     -38.1876     38.011     -1.005      0.318    -113.790      37.415\n",
      "Wealth        11.8456     26.433      0.448      0.655     -40.728      64.419\n",
      "==============================================================================\n",
      "Omnibus:                       71.123   Durbin-Watson:                   1.761\n",
      "Prob(Omnibus):                  0.000   Jarque-Bera (JB):              427.472\n",
      "Skew:                           2.647   Prob(JB):                     1.50e-93\n",
      "Kurtosis:                      12.554   Cond. No.                         216.\n",
      "==============================================================================\n",
      "\n",
      "Notes:\n",
      "[1] Standard Errors assume that the covariance matrix of the errors is correctly specified.\n"
     ]
    }
   ],
   "source": [
    "ols_reg = smf.ols('Donations ~ Literacy+Wealth', data).fit()\n",
    "print(ols_reg.summary())"
   ]
  },
  {
   "cell_type": "code",
   "execution_count": 23,
   "metadata": {},
   "outputs": [
    {
     "name": "stdout",
     "output_type": "stream",
     "text": [
      "                            OLS Regression Results                            \n",
      "==============================================================================\n",
      "Dep. Variable:             Crime_pers   R-squared:                       0.080\n",
      "Model:                            OLS   Adj. R-squared:                  0.058\n",
      "Method:                 Least Squares   F-statistic:                     3.629\n",
      "Date:                Mon, 08 Nov 2021   Prob (F-statistic):             0.0308\n",
      "Time:                        12:31:50   Log-Likelihood:                -885.32\n",
      "No. Observations:                  86   AIC:                             1777.\n",
      "Df Residuals:                      83   BIC:                             1784.\n",
      "Df Model:                           2                                         \n",
      "Covariance Type:            nonrobust                                         \n",
      "==============================================================================\n",
      "                 coef    std err          t      P>|t|      [0.025      0.975]\n",
      "------------------------------------------------------------------------------\n",
      "Intercept   1.264e+04   3484.180      3.628      0.000    5711.036    1.96e+04\n",
      "Literacy      32.5937     48.902      0.667      0.507     -64.670     129.857\n",
      "Crime_prop     0.7438      0.278      2.673      0.009       0.190       1.297\n",
      "==============================================================================\n",
      "Omnibus:                        1.972   Durbin-Watson:                   1.737\n",
      "Prob(Omnibus):                  0.373   Jarque-Bera (JB):                1.387\n",
      "Skew:                          -0.013   Prob(JB):                        0.500\n",
      "Kurtosis:                       2.378   Cond. No.                     3.73e+04\n",
      "==============================================================================\n",
      "\n",
      "Notes:\n",
      "[1] Standard Errors assume that the covariance matrix of the errors is correctly specified.\n",
      "[2] The condition number is large, 3.73e+04. This might indicate that there are\n",
      "strong multicollinearity or other numerical problems.\n"
     ]
    }
   ],
   "source": [
    "ols_reg = smf.ols('Crime_pers ~ Literacy+Crime_prop', data).fit()\n",
    "print(ols_reg.summary())"
   ]
  },
  {
   "cell_type": "code",
   "execution_count": 24,
   "metadata": {},
   "outputs": [
    {
     "name": "stdout",
     "output_type": "stream",
     "text": [
      "                            OLS Regression Results                            \n",
      "==============================================================================\n",
      "Dep. Variable:               Suicides   R-squared:                       0.083\n",
      "Model:                            OLS   Adj. R-squared:                  0.072\n",
      "Method:                 Least Squares   F-statistic:                     7.600\n",
      "Date:                Mon, 08 Nov 2021   Prob (F-statistic):            0.00716\n",
      "Time:                        12:31:51   Log-Likelihood:                -1008.1\n",
      "No. Observations:                  86   AIC:                             2020.\n",
      "Df Residuals:                      84   BIC:                             2025.\n",
      "Df Model:                           1                                         \n",
      "Covariance Type:            nonrobust                                         \n",
      "==============================================================================\n",
      "                 coef    std err          t      P>|t|      [0.025      0.975]\n",
      "------------------------------------------------------------------------------\n",
      "Intercept   1.704e+04   7778.834      2.191      0.031    1574.004    3.25e+04\n",
      "Infants        1.0226      0.371      2.757      0.007       0.285       1.760\n",
      "==============================================================================\n",
      "Omnibus:                       50.743   Durbin-Watson:                   1.764\n",
      "Prob(Omnibus):                  0.000   Jarque-Bera (JB):              142.490\n",
      "Skew:                           2.109   Prob(JB):                     1.14e-31\n",
      "Kurtosis:                       7.688   Cond. No.                     5.02e+04\n",
      "==============================================================================\n",
      "\n",
      "Notes:\n",
      "[1] Standard Errors assume that the covariance matrix of the errors is correctly specified.\n",
      "[2] The condition number is large, 5.02e+04. This might indicate that there are\n",
      "strong multicollinearity or other numerical problems.\n"
     ]
    }
   ],
   "source": [
    "ols_reg = smf.ols('Suicides ~ Infants', data).fit()\n",
    "print(ols_reg.summary())"
   ]
  },
  {
   "cell_type": "code",
   "execution_count": 25,
   "metadata": {},
   "outputs": [
    {
     "name": "stdout",
     "output_type": "stream",
     "text": [
      "                            OLS Regression Results                            \n",
      "==============================================================================\n",
      "Dep. Variable:               Suicides   R-squared:                       0.102\n",
      "Model:                            OLS   Adj. R-squared:                  0.081\n",
      "Method:                 Least Squares   F-statistic:                     4.738\n",
      "Date:                Mon, 08 Nov 2021   Prob (F-statistic):             0.0113\n",
      "Time:                        12:31:51   Log-Likelihood:                -1007.1\n",
      "No. Observations:                  86   AIC:                             2020.\n",
      "Df Residuals:                      83   BIC:                             2028.\n",
      "Df Model:                           2                                         \n",
      "Covariance Type:            nonrobust                                         \n",
      "===============================================================================\n",
      "                  coef    std err          t      P>|t|      [0.025      0.975]\n",
      "-------------------------------------------------------------------------------\n",
      "Intercept    2.104e+04   8293.689      2.537      0.013    4543.055    3.75e+04\n",
      "Infants         0.8779      0.385      2.283      0.025       0.113       1.643\n",
      "Prostitutes    -8.7453      6.511     -1.343      0.183     -21.695       4.204\n",
      "==============================================================================\n",
      "Omnibus:                       51.033   Durbin-Watson:                   1.808\n",
      "Prob(Omnibus):                  0.000   Jarque-Bera (JB):              144.565\n",
      "Skew:                           2.117   Prob(JB):                     4.06e-32\n",
      "Kurtosis:                       7.734   Cond. No.                     5.37e+04\n",
      "==============================================================================\n",
      "\n",
      "Notes:\n",
      "[1] Standard Errors assume that the covariance matrix of the errors is correctly specified.\n",
      "[2] The condition number is large, 5.37e+04. This might indicate that there are\n",
      "strong multicollinearity or other numerical problems.\n"
     ]
    }
   ],
   "source": [
    "ols_reg = smf.ols('Suicides ~ Infants+Prostitutes', data).fit()\n",
    "print(ols_reg.summary())"
   ]
  },
  {
   "cell_type": "code",
   "execution_count": 26,
   "metadata": {},
   "outputs": [
    {
     "name": "stdout",
     "output_type": "stream",
     "text": [
      "                            OLS Regression Results                            \n",
      "==============================================================================\n",
      "Dep. Variable:                Lottery   R-squared:                       0.133\n",
      "Model:                            OLS   Adj. R-squared:                  0.123\n",
      "Method:                 Least Squares   F-statistic:                     12.89\n",
      "Date:                Mon, 08 Nov 2021   Prob (F-statistic):           0.000555\n",
      "Time:                        12:31:51   Log-Likelihood:                -392.11\n",
      "No. Observations:                  86   AIC:                             788.2\n",
      "Df Residuals:                      84   BIC:                             793.1\n",
      "Df Model:                           1                                         \n",
      "Covariance Type:            nonrobust                                         \n",
      "==============================================================================\n",
      "                 coef    std err          t      P>|t|      [0.025      0.975]\n",
      "------------------------------------------------------------------------------\n",
      "Intercept     64.0896      6.265     10.230      0.000      51.631      76.548\n",
      "Literacy      -0.5245      0.146     -3.590      0.001      -0.815      -0.234\n",
      "==============================================================================\n",
      "Omnibus:                        8.096   Durbin-Watson:                   1.946\n",
      "Prob(Omnibus):                  0.017   Jarque-Bera (JB):                3.090\n",
      "Skew:                           0.072   Prob(JB):                        0.213\n",
      "Kurtosis:                       2.083   Cond. No.                         107.\n",
      "==============================================================================\n",
      "\n",
      "Notes:\n",
      "[1] Standard Errors assume that the covariance matrix of the errors is correctly specified.\n"
     ]
    }
   ],
   "source": [
    "ols_reg = smf.ols('Lottery ~ Literacy', data).fit()\n",
    "print(ols_reg.summary())"
   ]
  },
  {
   "cell_type": "code",
   "execution_count": 27,
   "metadata": {},
   "outputs": [
    {
     "data": {
      "text/plain": [
       "Intercept    64.089550\n",
       "Literacy     -0.524497\n",
       "dtype: float64"
      ]
     },
     "execution_count": 27,
     "metadata": {},
     "output_type": "execute_result"
    }
   ],
   "source": [
    "ols_reg.params"
   ]
  },
  {
   "cell_type": "code",
   "execution_count": 28,
   "metadata": {},
   "outputs": [
    {
     "name": "stdout",
     "output_type": "stream",
     "text": [
      "Parameters:  Intercept    64.089550\n",
      "Literacy     -0.524497\n",
      "dtype: float64\n",
      "Standard errors:  Intercept    6.265028\n",
      "Literacy     0.146093\n",
      "dtype: float64\n"
     ]
    }
   ],
   "source": [
    "print('Parameters: ', ols_reg.params)\n",
    "print('Standard errors: ', ols_reg.bse)"
   ]
  },
  {
   "cell_type": "code",
   "execution_count": 29,
   "metadata": {},
   "outputs": [
    {
     "name": "stdout",
     "output_type": "stream",
     "text": [
      "Predicted values:  [44.68316727 37.34021161 57.27109127 39.96269578 27.89926862 49.92813561\n",
      " 28.94826228 54.6486071  33.14423695 46.25665777 47.83014827 44.15867044\n",
      " 36.81571478 47.83014827 45.20766411 43.63417361 57.27109127 57.7955881\n",
      " 32.61974011 55.69760077 52.02612294 54.6486071  25.80128128 42.06068311\n",
      " 37.34021161 35.76672111 56.2220976  43.10967678 47.83014827 44.15867044\n",
      " 43.10967678 40.48719261 50.97712927 55.17310394 49.92813561 48.87914194\n",
      " 25.80128128 49.40363877 49.92813561 48.87914194 53.0751166  51.5016261\n",
      " 42.06068311 51.5016261  47.83014827 49.92813561 52.02612294 41.53618628\n",
      " 31.04624961 26.32577812 54.12411027 28.42376545 25.27678445 56.74659444\n",
      " 34.19323061 53.59961344 40.48719261 35.76672111 40.48719261 38.38920528\n",
      " 54.12411027 39.43819894 36.29121795 47.83014827 31.57074645 26.85027495\n",
      " 40.48719261 33.14423695 47.30565144 48.35464511 26.85027495 41.53618628\n",
      " 35.76672111 34.71772745 42.58517994 41.01168944 53.59961344 50.97712927\n",
      " 52.02612294 44.68316727 49.40363877 50.97712927 57.27109127 31.57074645\n",
      " 39.43819894 38.38920528]\n"
     ]
    }
   ],
   "source": [
    "print('Predicted values: ', ols_reg.predict())"
   ]
  }
 ],
 "metadata": {
  "kernelspec": {
   "display_name": "Python 3",
   "language": "python",
   "name": "python3"
  },
  "language_info": {
   "codemirror_mode": {
    "name": "ipython",
    "version": 3
   },
   "file_extension": ".py",
   "mimetype": "text/x-python",
   "name": "python",
   "nbconvert_exporter": "python",
   "pygments_lexer": "ipython3",
   "version": "3.8.8"
  }
 },
 "nbformat": 4,
 "nbformat_minor": 2
}
