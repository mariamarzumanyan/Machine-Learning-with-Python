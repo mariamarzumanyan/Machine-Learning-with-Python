{
 "cells": [
  {
   "cell_type": "markdown",
   "id": "6d893aac",
   "metadata": {},
   "source": [
    "# Դասախոսություն 19\n",
    "## Scikit-learn: Preprocessing\n",
    "## Mariam Arzumanyan"
   ]
  },
  {
   "cell_type": "markdown",
   "id": "20fc8756",
   "metadata": {},
   "source": [
    "Այսօր ուսումնասիրելու ենք sklearn.preprocessing-ի package-ը, որը մեզ հնարավորություն է տալիս ստանդարտացնելու մեր տվյալները։"
   ]
  },
  {
   "cell_type": "markdown",
   "id": "dd1d702e",
   "metadata": {},
   "source": [
    "Նախ, պետք է ներբեռնենք համապատասխան մոդուլները։\n"
   ]
  },
  {
   "cell_type": "code",
   "execution_count": 1,
   "id": "006ae540",
   "metadata": {},
   "outputs": [],
   "source": [
    "from sklearn import preprocessing\n",
    "import numpy as np"
   ]
  },
  {
   "cell_type": "markdown",
   "id": "97651210",
   "metadata": {},
   "source": [
    "sklearn.preprocessing-ից մեզ հետաքրքրում է StandardScaler class-ը։ \n",
    "https://scikit-learn.org/stable/modules/generated/sklearn.preprocessing.StandardScaler.html#sklearn.preprocessing.StandardScaler"
   ]
  },
  {
   "cell_type": "code",
   "execution_count": 2,
   "id": "a3204a70",
   "metadata": {},
   "outputs": [],
   "source": [
    "from sklearn.preprocessing import StandardScaler"
   ]
  },
  {
   "cell_type": "markdown",
   "id": "1ab6e437",
   "metadata": {},
   "source": [
    "Ստանդարտացնում է feature-ները՝ հեռացնելով միջինը և չափավորելով ստանդարդ շեղումները։ "
   ]
  },
  {
   "cell_type": "code",
   "execution_count": 3,
   "id": "0c8a56ee",
   "metadata": {},
   "outputs": [
    {
     "data": {
      "text/plain": [
       "StandardScaler()"
      ]
     },
     "execution_count": 3,
     "metadata": {},
     "output_type": "execute_result"
    }
   ],
   "source": [
    "x= [[0,0], [1,0], [1,1]]\n",
    "scaler = StandardScaler()\n",
    "scaler.fit(x)"
   ]
  },
  {
   "cell_type": "code",
   "execution_count": 4,
   "id": "d5ad1761",
   "metadata": {},
   "outputs": [
    {
     "name": "stdout",
     "output_type": "stream",
     "text": [
      "[0.66666667 0.33333333]\n"
     ]
    }
   ],
   "source": [
    "print(scaler.mean_)"
   ]
  },
  {
   "cell_type": "code",
   "execution_count": 5,
   "id": "3cf445af",
   "metadata": {},
   "outputs": [
    {
     "name": "stdout",
     "output_type": "stream",
     "text": [
      "[0.22222222 0.22222222]\n"
     ]
    }
   ],
   "source": [
    "print(scaler.var_)"
   ]
  },
  {
   "cell_type": "code",
   "execution_count": 6,
   "id": "09822461",
   "metadata": {},
   "outputs": [
    {
     "name": "stdout",
     "output_type": "stream",
     "text": [
      "[[2.82842712 3.53553391]]\n"
     ]
    }
   ],
   "source": [
    "print(scaler.transform([[2,2]]))"
   ]
  },
  {
   "cell_type": "code",
   "execution_count": 7,
   "id": "95255a30",
   "metadata": {},
   "outputs": [
    {
     "data": {
      "text/plain": [
       "2.828441266987881"
      ]
     },
     "execution_count": 7,
     "metadata": {},
     "output_type": "execute_result"
    }
   ],
   "source": [
    "z_1=(2-2/3)/np.sqrt(0.22222)\n",
    "z_1"
   ]
  },
  {
   "cell_type": "code",
   "execution_count": 8,
   "id": "55776727",
   "metadata": {},
   "outputs": [
    {
     "data": {
      "text/plain": [
       "3.535551583734851"
      ]
     },
     "execution_count": 8,
     "metadata": {},
     "output_type": "execute_result"
    }
   ],
   "source": [
    "z_2=(2-1/3)/np.sqrt(0.22222)\n",
    "z_2"
   ]
  },
  {
   "cell_type": "code",
   "execution_count": 9,
   "id": "028c1d3d",
   "metadata": {},
   "outputs": [
    {
     "name": "stdout",
     "output_type": "stream",
     "text": [
      "[[-1.41421356 -0.70710678]\n",
      " [ 0.70710678 -0.70710678]\n",
      " [ 0.70710678  1.41421356]]\n"
     ]
    }
   ],
   "source": [
    "print(scaler.transform(x))"
   ]
  },
  {
   "cell_type": "code",
   "execution_count": 10,
   "id": "0fba860b",
   "metadata": {},
   "outputs": [
    {
     "name": "stdout",
     "output_type": "stream",
     "text": [
      "[[11.3137085   3.53553391]\n",
      " [ 0.70710678  1.41421356]]\n"
     ]
    }
   ],
   "source": [
    "print(scaler.transform([[6,2], [1,1]]))"
   ]
  },
  {
   "cell_type": "code",
   "execution_count": 11,
   "id": "9d26f501",
   "metadata": {},
   "outputs": [
    {
     "name": "stdout",
     "output_type": "stream",
     "text": [
      "[[-1.41421356 -0.70710678]\n",
      " [ 0.70710678 -0.70710678]\n",
      " [ 0.70710678  1.41421356]]\n"
     ]
    }
   ],
   "source": [
    "print(scaler.transform(x))"
   ]
  },
  {
   "cell_type": "code",
   "execution_count": 12,
   "id": "7b817190",
   "metadata": {},
   "outputs": [
    {
     "data": {
      "text/plain": [
       "{'copy': True, 'with_mean': True, 'with_std': True}"
      ]
     },
     "execution_count": 12,
     "metadata": {},
     "output_type": "execute_result"
    }
   ],
   "source": [
    "scaler.get_params(deep=True)"
   ]
  },
  {
   "cell_type": "code",
   "execution_count": 13,
   "id": "2b74a210",
   "metadata": {},
   "outputs": [
    {
     "data": {
      "text/plain": [
       "{'copy': True, 'with_mean': True, 'with_std': True}"
      ]
     },
     "execution_count": 13,
     "metadata": {},
     "output_type": "execute_result"
    }
   ],
   "source": [
    "scaler.get_params(deep=False)"
   ]
  },
  {
   "cell_type": "markdown",
   "id": "a6e495db",
   "metadata": {},
   "source": [
    "### Տնային Առաջադրանք 1\n",
    "Հետևյալ տվյալների համար օգտագործեք StandardScaler()-ը ներքևում նշված հարցերին պատասխանելու համար։\n"
   ]
  },
  {
   "cell_type": "code",
   "execution_count": 19,
   "id": "cdd0183f",
   "metadata": {},
   "outputs": [],
   "source": [
    "x_1= [[1,1], [1,1], [1,0], [0,0], [0,0]]\n",
    "x_2= [[2,5], [4.5, 8]]\n",
    "x_3= [[1,1], [1,0], [0,0], [0,0], [0,1]]"
   ]
  },
  {
   "cell_type": "markdown",
   "id": "5e5190e5",
   "metadata": {},
   "source": [
    "Բոլոր 3 տվյալների համար, գրեք կոդ։\n",
    "* Ներբեռնեք անհրաժեշտ մոդուլները։\n",
    "* Fit x_1:\n",
    "* Գտեք mean-ն ու var-ը։\n",
    "* Transform արեք x_2-ն ու x_3-ը։\n",
    "\n",
    "* Fit x_2:\n",
    "* Գտեք mean-ն ու var-ը։\n",
    "* Transform արեք x_1-ն ու x_3-ը։\n",
    "\n",
    "* Fit x_3:\n",
    "* Գտեք mean-ն ու var-ը։\n",
    "* Transform արեք x_2-ն ու x_1-ը։"
   ]
  },
  {
   "cell_type": "markdown",
   "id": "1acbdc5a",
   "metadata": {},
   "source": [
    "## MinMaxScaler "
   ]
  },
  {
   "cell_type": "markdown",
   "id": "b58affbc",
   "metadata": {},
   "source": [
    "class sklearn.preprocessing.MinMaxScaler(feature_range=(0, 1), *, copy=True, clip=False)"
   ]
  },
  {
   "cell_type": "markdown",
   "id": "26f8d36d",
   "metadata": {},
   "source": [
    "Այս ֆունկցիան ձևափոխում է տվյալները, ու բոլոր տվյալները լրացնում որոշակի տիրույթում։ \n"
   ]
  },
  {
   "cell_type": "markdown",
   "id": "4e656f1b",
   "metadata": {},
   "source": [
    "\\begin{equation}\n",
    "X_{std} = (X - X.min(axis=0)) / (X.max(axis=0) - X.min(axis=0))\n",
    "\\end{equation}\n",
    "\\begin{equation}\n",
    "X_{scaled} = X_{std} * (max - min) + min\n",
    "\\end{equation}"
   ]
  },
  {
   "cell_type": "code",
   "execution_count": 29,
   "id": "07aa0c90",
   "metadata": {},
   "outputs": [
    {
     "data": {
      "text/plain": [
       "MinMaxScaler()"
      ]
     },
     "execution_count": 29,
     "metadata": {},
     "output_type": "execute_result"
    }
   ],
   "source": [
    "from sklearn.preprocessing import MinMaxScaler\n",
    "x= [[0,-1], [2,0], [1,1]]\n",
    "scaler = MinMaxScaler()\n",
    "scaler.fit(x)"
   ]
  },
  {
   "cell_type": "code",
   "execution_count": 30,
   "id": "204baf77",
   "metadata": {},
   "outputs": [
    {
     "name": "stdout",
     "output_type": "stream",
     "text": [
      "[2. 1.]\n",
      "[ 0. -1.]\n"
     ]
    }
   ],
   "source": [
    "print(scaler.data_max_)\n",
    "print(scaler.data_min_)"
   ]
  },
  {
   "cell_type": "code",
   "execution_count": 31,
   "id": "1a092250",
   "metadata": {},
   "outputs": [
    {
     "name": "stdout",
     "output_type": "stream",
     "text": [
      "[[1.  1.5]]\n"
     ]
    }
   ],
   "source": [
    "print(scaler.transform([[2,2]]))"
   ]
  },
  {
   "cell_type": "code",
   "execution_count": 32,
   "id": "00eab413",
   "metadata": {},
   "outputs": [
    {
     "name": "stdout",
     "output_type": "stream",
     "text": [
      "[[1.5 1.5]]\n"
     ]
    }
   ],
   "source": [
    "print(scaler.transform([[3,2]]))"
   ]
  },
  {
   "cell_type": "code",
   "execution_count": 36,
   "id": "c69a128a",
   "metadata": {},
   "outputs": [
    {
     "data": {
      "text/plain": [
       "[1.5, 1.5]"
      ]
     },
     "execution_count": 36,
     "metadata": {},
     "output_type": "execute_result"
    }
   ],
   "source": [
    "z_1=[(3-0)/(2-0), (2-(-1))/(1-(-1))]\n",
    "z_1"
   ]
  },
  {
   "cell_type": "markdown",
   "id": "d4e7a574",
   "metadata": {},
   "source": [
    "### Տնային Առաջադրանք 2\n",
    "Հետևյալ տվյալների համար օգտագործեք MinMaxScaler()-ը ներքևում նշված հարցերին պատասխանելու համար։\n"
   ]
  },
  {
   "cell_type": "code",
   "execution_count": 37,
   "id": "37121a38",
   "metadata": {},
   "outputs": [],
   "source": [
    "x_1= [[1,1], [1,1], [1,0], [0,0], [0,0]]\n",
    "x_2= [[2,5], [4.5, 8]]\n",
    "x_3= [[1,1], [1,0], [0,0], [0,0], [0,1]]"
   ]
  },
  {
   "cell_type": "markdown",
   "id": "7f177d3f",
   "metadata": {},
   "source": [
    "Բոլոր 3 տվյալների համար, գրեք կոդ։\n",
    "* Ներբեռնեք անհրաժեշտ մոդուլները։\n",
    "* Fit x_1:\n",
    "* Գտեք mean-ն ու var-ը։\n",
    "* Transform արեք x_2-ն ու x_3-ը։\n",
    "\n",
    "* Fit x_2:\n",
    "* Գտեք mean-ն ու var-ը։\n",
    "* Transform արեք x_1-ն ու x_3-ը։\n",
    "\n",
    "* Fit x_3:\n",
    "* Գտեք mean-ն ու var-ը։\n",
    "* Transform արեք x_2-ն ու x_1-ը։\n",
    "* Համեմատեք այս վարժությունը StandardScaler()-ի պատասխանների հետ։"
   ]
  },
  {
   "cell_type": "markdown",
   "id": "04ba2077",
   "metadata": {},
   "source": [
    "## OrdinalEncoder\n"
   ]
  },
  {
   "cell_type": "markdown",
   "id": "cab70dd5",
   "metadata": {},
   "source": [
    "class sklearn.preprocessing.OrdinalEncoder(*, categories='auto', dtype=<class 'numpy.float64'>, handle_unknown='error', unknown_value=None)"
   ]
  },
  {
   "cell_type": "markdown",
   "id": "2829ab70",
   "metadata": {},
   "source": [
    "Այս ֆունկցիան փոխարինում է կատեգորիկ տվյալները թվային առանցքում, 0-ից մինչև կատեգորիաների քանակից մինուս 1։"
   ]
  },
  {
   "cell_type": "code",
   "execution_count": 57,
   "id": "35fdc7be",
   "metadata": {},
   "outputs": [
    {
     "data": {
      "text/plain": [
       "OrdinalEncoder()"
      ]
     },
     "execution_count": 57,
     "metadata": {},
     "output_type": "execute_result"
    }
   ],
   "source": [
    "from sklearn.preprocessing import OrdinalEncoder\n",
    "enc = OrdinalEncoder()\n",
    "X=[[\"Male\"], [\"Male\"], [\"Female\"]]\n",
    "enc.fit(X)"
   ]
  },
  {
   "cell_type": "code",
   "execution_count": 58,
   "id": "a8e120b6",
   "metadata": {},
   "outputs": [
    {
     "data": {
      "text/plain": [
       "[array(['Female', 'Male'], dtype=object)]"
      ]
     },
     "execution_count": 58,
     "metadata": {},
     "output_type": "execute_result"
    }
   ],
   "source": [
    "enc.categories_"
   ]
  },
  {
   "cell_type": "code",
   "execution_count": 59,
   "id": "e38cb37a",
   "metadata": {},
   "outputs": [
    {
     "name": "stdout",
     "output_type": "stream",
     "text": [
      "[[0.]\n",
      " [1.]]\n"
     ]
    }
   ],
   "source": [
    "print(enc.transform([[\"Female\"], [\"Male\"]]))"
   ]
  },
  {
   "cell_type": "code",
   "execution_count": 60,
   "id": "ee811648",
   "metadata": {},
   "outputs": [
    {
     "data": {
      "text/plain": [
       "[array([-2, -1, 0], dtype=object),\n",
       " array(['lion', 'tiger', 'zebra'], dtype=object)]"
      ]
     },
     "execution_count": 60,
     "metadata": {},
     "output_type": "execute_result"
    }
   ],
   "source": [
    "x=[[-1, \"zebra\"], [-2, \"lion\"], [0, \"tiger\"], [-1, \"lion\"]]\n",
    "enc.fit(x)\n",
    "enc.categories_"
   ]
  },
  {
   "cell_type": "code",
   "execution_count": 61,
   "id": "b9f50b6a",
   "metadata": {},
   "outputs": [
    {
     "data": {
      "text/plain": [
       "array([[1., 2.],\n",
       "       [0., 0.],\n",
       "       [2., 1.],\n",
       "       [1., 0.]])"
      ]
     },
     "execution_count": 61,
     "metadata": {},
     "output_type": "execute_result"
    }
   ],
   "source": [
    "enc.transform(x)"
   ]
  },
  {
   "cell_type": "markdown",
   "id": "a3eac95d",
   "metadata": {},
   "source": [
    "Թվերի դեպքում ալգորիթմը սկսում է ամենափոքր թվից, տառերի դեպքում ալգորիթմը սկսում է աշխատել այբենական կարգով։"
   ]
  },
  {
   "cell_type": "markdown",
   "id": "5c5557cc",
   "metadata": {},
   "source": [
    "## Տնային Առաջադրանք 3"
   ]
  },
  {
   "cell_type": "markdown",
   "id": "493565e4",
   "metadata": {},
   "source": [
    "Հետևյալ տվյալների համար, պատասխանեք ներքևում տրված հարցերին։\n"
   ]
  },
  {
   "cell_type": "code",
   "execution_count": 63,
   "id": "3abc7f6d",
   "metadata": {},
   "outputs": [],
   "source": [
    "x_1=[[0, \"zebra\"], [-1, \"lion\"], [0, \"tiger\"], [0, \"lion\"], [-1, \"zebra\"]]\n",
    "x_2=[[\"bird\", \"boy\", -10],[\"fish\", \"boy\", 4], [\"mammal\", \"girl\", 2], [\"fish\", \"girl\", 1]]\n",
    "x_3=[[\"bird\", \"girl\", 4],[\"fish\", \"girl\", 2], [\"mammal\", \"boy\", 2], [\"fish\", \"girl\", 1]]"
   ]
  },
  {
   "cell_type": "markdown",
   "id": "cc561cfb",
   "metadata": {},
   "source": [
    "Բոլոր 3 տվյալների համար, գրեք կոդ։\n",
    "* Ներբեռնեք անհրաժեշտ մոդուլները։\n",
    "* Fit x_1:\n",
    "* Գտեք բոլոր կատեգորիաները։\n",
    "* Transform արեք x_1-ն։\n",
    "* inverse transform արեք x_1-ն։\n",
    "\n",
    "\n",
    "* Fit x_2:\n",
    "* Գտեք բոլոր կատեգորիաները։\n",
    "* Transform արեք x_2-ն։\n",
    "* inverse transform արեք x_2-ն։\n",
    "\n",
    "* Fit x_3:\n",
    "* Գտեք բոլոր կատեգորիաները։\n",
    "* Transform արեք x_3-ն։\n",
    "* inverse transform արեք x_3-ն։\n",
    "* Համեմատեք այս վարժությունը  պատասխանները x_1-ի, x_2-ի ու x_3-ի համար։"
   ]
  },
  {
   "cell_type": "markdown",
   "id": "9e4067ea",
   "metadata": {},
   "source": [
    "## OneHotEncoder"
   ]
  },
  {
   "cell_type": "markdown",
   "id": "6253c2c6",
   "metadata": {},
   "source": [
    "class sklearn.preprocessing.OneHotEncoder(*, categories='auto', drop=None, sparse=True, dtype=<class 'numpy.float64'>, handle_unknown='error')"
   ]
  },
  {
   "cell_type": "code",
   "execution_count": 66,
   "id": "3d542357",
   "metadata": {},
   "outputs": [
    {
     "data": {
      "text/plain": [
       "[array(['Female', 'Male'], dtype=object)]"
      ]
     },
     "execution_count": 66,
     "metadata": {},
     "output_type": "execute_result"
    }
   ],
   "source": [
    "from sklearn.preprocessing import OneHotEncoder\n",
    "enc = OneHotEncoder(handle_unknown='ignore')\n",
    "X=[[\"Male\"], [\"Male\"], [\"Female\"]]\n",
    "enc.fit(X)\n",
    "enc.categories_"
   ]
  },
  {
   "cell_type": "code",
   "execution_count": 69,
   "id": "bcd6d889",
   "metadata": {},
   "outputs": [
    {
     "data": {
      "text/plain": [
       "array([[0., 1.],\n",
       "       [0., 1.],\n",
       "       [1., 0.]])"
      ]
     },
     "execution_count": 69,
     "metadata": {},
     "output_type": "execute_result"
    }
   ],
   "source": [
    "enc.transform(X).toarray()"
   ]
  },
  {
   "cell_type": "code",
   "execution_count": 79,
   "id": "7b4f69e8",
   "metadata": {},
   "outputs": [
    {
     "data": {
      "text/plain": [
       "[array(['Female', 'Male'], dtype=object), array([0, 1, 2], dtype=object)]"
      ]
     },
     "execution_count": 79,
     "metadata": {},
     "output_type": "execute_result"
    }
   ],
   "source": [
    "X=[[\"Male\", 1], [\"Male\", 0], [\"Female\",2]]\n",
    "enc.fit(X)\n",
    "enc.categories_"
   ]
  },
  {
   "cell_type": "code",
   "execution_count": 86,
   "id": "f84b5a6b",
   "metadata": {},
   "outputs": [
    {
     "data": {
      "text/plain": [
       "array([[0., 1., 0., 1., 0.],\n",
       "       [0., 1., 1., 0., 0.],\n",
       "       [1., 0., 0., 0., 1.]])"
      ]
     },
     "execution_count": 86,
     "metadata": {},
     "output_type": "execute_result"
    }
   ],
   "source": [
    "s=enc.transform(X)\n",
    "s.shape\n",
    "s.toarray()"
   ]
  },
  {
   "cell_type": "markdown",
   "id": "e6f83f86",
   "metadata": {},
   "source": [
    "## Binarizer"
   ]
  },
  {
   "cell_type": "markdown",
   "id": "afc13b79",
   "metadata": {},
   "source": [
    "class sklearn.preprocessing.Binarizer(*, threshold=0.0, copy=True)"
   ]
  },
  {
   "cell_type": "markdown",
   "id": "d48607da",
   "metadata": {},
   "source": [
    "Կախված շեմից, այս ֆունկցիան մեզ վերադարձնում է կամ 0 կամ 1։"
   ]
  },
  {
   "cell_type": "code",
   "execution_count": 101,
   "id": "31527299",
   "metadata": {},
   "outputs": [
    {
     "data": {
      "text/plain": [
       "Binarizer()"
      ]
     },
     "execution_count": 101,
     "metadata": {},
     "output_type": "execute_result"
    }
   ],
   "source": [
    "from sklearn.preprocessing import Binarizer\n",
    "scaler=Binarizer()\n",
    "x=[[1,1], [2,-1], [0,1], [0,0], [-2, 1]]\n",
    "scaler.fit(x)"
   ]
  },
  {
   "cell_type": "code",
   "execution_count": 102,
   "id": "735277fd",
   "metadata": {},
   "outputs": [
    {
     "data": {
      "text/plain": [
       "array([[1, 1],\n",
       "       [1, 0],\n",
       "       [0, 1],\n",
       "       [0, 0],\n",
       "       [0, 1]])"
      ]
     },
     "execution_count": 102,
     "metadata": {},
     "output_type": "execute_result"
    }
   ],
   "source": [
    "scaler.transform(x)"
   ]
  },
  {
   "cell_type": "code",
   "execution_count": 104,
   "id": "ae2db944",
   "metadata": {},
   "outputs": [
    {
     "data": {
      "text/plain": [
       "Binarizer(threshold=1.1)"
      ]
     },
     "execution_count": 104,
     "metadata": {},
     "output_type": "execute_result"
    }
   ],
   "source": [
    "scaler=Binarizer(threshold=1.1)\n",
    "scaler.fit(x)"
   ]
  },
  {
   "cell_type": "code",
   "execution_count": 105,
   "id": "c8e1f6e2",
   "metadata": {},
   "outputs": [
    {
     "data": {
      "text/plain": [
       "array([[0, 0],\n",
       "       [1, 0],\n",
       "       [0, 0],\n",
       "       [0, 0],\n",
       "       [0, 0]])"
      ]
     },
     "execution_count": 105,
     "metadata": {},
     "output_type": "execute_result"
    }
   ],
   "source": [
    "scaler.transform(x)"
   ]
  },
  {
   "cell_type": "markdown",
   "id": "c24d53b9",
   "metadata": {},
   "source": [
    "## KBinsDiscretizer"
   ]
  },
  {
   "cell_type": "markdown",
   "id": "3a20b3b2",
   "metadata": {},
   "source": [
    "class sklearn.preprocessing.KBinsDiscretizer(n_bins=5, *, encode='onehot', strategy='quantile', dtype=None)[source]"
   ]
  },
  {
   "cell_type": "markdown",
   "id": "e8aa86f6",
   "metadata": {},
   "source": [
    "Այս ֆունկցիան բաժանում է անընդհատ տվյալների բազմությունը վերջավոր խմբերի։ "
   ]
  },
  {
   "cell_type": "code",
   "execution_count": 92,
   "id": "4cd7cdbf",
   "metadata": {},
   "outputs": [
    {
     "data": {
      "text/plain": [
       "KBinsDiscretizer(encode='ordinal', n_bins=2, strategy='uniform')"
      ]
     },
     "execution_count": 92,
     "metadata": {},
     "output_type": "execute_result"
    }
   ],
   "source": [
    "from sklearn.preprocessing import KBinsDiscretizer\n",
    "x= [[0,-1], [2,0], [1,1]]\n",
    "scaler=KBinsDiscretizer(n_bins=2, encode='ordinal', strategy='uniform')\n",
    "scaler.fit(x)"
   ]
  },
  {
   "cell_type": "code",
   "execution_count": 93,
   "id": "3c2280eb",
   "metadata": {},
   "outputs": [
    {
     "name": "stdout",
     "output_type": "stream",
     "text": [
      "[[1. 1.]\n",
      " [1. 0.]]\n"
     ]
    }
   ],
   "source": [
    "print(scaler.transform([[2,2], [1,-1]]))"
   ]
  },
  {
   "cell_type": "code",
   "execution_count": 94,
   "id": "9892a730",
   "metadata": {},
   "outputs": [
    {
     "name": "stdout",
     "output_type": "stream",
     "text": [
      "[[0. 1.]\n",
      " [1. 0.]]\n"
     ]
    }
   ],
   "source": [
    "print(scaler.transform([[0,6], [1,-3]]))"
   ]
  },
  {
   "cell_type": "code",
   "execution_count": 52,
   "id": "d3b158fd",
   "metadata": {},
   "outputs": [
    {
     "data": {
      "text/plain": [
       "array([[0., 1.],\n",
       "       [2., 2.],\n",
       "       [1., 2.]])"
      ]
     },
     "execution_count": 52,
     "metadata": {},
     "output_type": "execute_result"
    }
   ],
   "source": [
    "x=scaler.transform(x)\n",
    "x"
   ]
  },
  {
   "cell_type": "code",
   "execution_count": 96,
   "id": "99ada2d4",
   "metadata": {},
   "outputs": [
    {
     "data": {
      "text/plain": [
       "KBinsDiscretizer(encode='ordinal', n_bins=3, strategy='uniform')"
      ]
     },
     "execution_count": 96,
     "metadata": {},
     "output_type": "execute_result"
    }
   ],
   "source": [
    "age=[[1],[1.5], [1], [2],[2],[2],[3],[3],[3],[4],[5],[6],[7],[8],[9], [10]]\n",
    "scaler=KBinsDiscretizer(n_bins=3, encode='ordinal', strategy='uniform')\n",
    "scaler.fit(age) "
   ]
  },
  {
   "cell_type": "code",
   "execution_count": 97,
   "id": "d5e721f8",
   "metadata": {},
   "outputs": [
    {
     "data": {
      "text/plain": [
       "array([[0.],\n",
       "       [0.],\n",
       "       [0.],\n",
       "       [0.],\n",
       "       [0.],\n",
       "       [0.],\n",
       "       [0.],\n",
       "       [0.],\n",
       "       [0.],\n",
       "       [1.],\n",
       "       [1.],\n",
       "       [1.],\n",
       "       [2.],\n",
       "       [2.],\n",
       "       [2.],\n",
       "       [2.]])"
      ]
     },
     "execution_count": 97,
     "metadata": {},
     "output_type": "execute_result"
    }
   ],
   "source": [
    "scaler.transform(age)"
   ]
  }
 ],
 "metadata": {
  "kernelspec": {
   "display_name": "Python 3",
   "language": "python",
   "name": "python3"
  },
  "language_info": {
   "codemirror_mode": {
    "name": "ipython",
    "version": 3
   },
   "file_extension": ".py",
   "mimetype": "text/x-python",
   "name": "python",
   "nbconvert_exporter": "python",
   "pygments_lexer": "ipython3",
   "version": "3.8.8"
  }
 },
 "nbformat": 4,
 "nbformat_minor": 5
}
